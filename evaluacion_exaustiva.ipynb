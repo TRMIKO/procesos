{
 "cells": [
  {
   "cell_type": "markdown",
   "metadata": {},
   "source": [
    "# EVALUACION EXHAUSTIVA"
   ]
  },
  {
   "cell_type": "code",
   "execution_count": 187,
   "metadata": {},
   "outputs": [
    {
     "data": {
      "application/vnd.jupyter.widget-view+json": {
       "model_id": "f2a2403c65d9489892b5c51c3aeab22b",
       "version_major": 2,
       "version_minor": 0
      },
      "text/plain": [
       "VBox(children=(Box(children=(FloatText(value=1.0), FloatText(value=2.0), FloatText(value=3.0), FloatText(value…"
      ]
     },
     "metadata": {},
     "output_type": "display_data"
    }
   ],
   "source": [
    "\n",
    "\n",
    "import numpy as np\n",
    "import wolframalpha\n",
    "client = wolframalpha.Client(\"K56TY6-XQUK252299\")\n",
    "from ipywidgets import Layout, Button, Box, VBox\n",
    "\n",
    "# Items flex proportionally to the weight and the left over space around the text\n",
    "items_0 = [widgets.FloatText(value=i+1) for i in range(0,4)]\n",
    "items_1 = [widgets.FloatText(value=i+1) for i in range(4,8)]\n",
    "items_2 = [widgets.FloatText(value=i+1) for i in range(8,12)]\n",
    "items_3 = [widgets.FloatText(value=i+1) for i in range(12,16)]\n",
    "box_layout = Layout(display='flex',\n",
    "                    flex_flow='row',\n",
    "                    align_items='stretch',\n",
    "                    width='100%')\n",
    "box_0 = Box(children=items_0, layout=box_layout)\n",
    "box_1 = Box(children=items_1, layout=box_layout)\n",
    "box_2 = Box(children=items_2, layout=box_layout)\n",
    "box_3 = Box(children=items_3, layout=box_layout)\n",
    "VBox([box_0,box_1,box_2,box_3])\n"
   ]
  },
  {
   "cell_type": "code",
   "execution_count": 169,
   "metadata": {},
   "outputs": [
    {
     "name": "stdout",
     "output_type": "stream",
     "text": [
      "Politica a evaluar separada por comas\n"
     ]
    },
    {
     "data": {
      "application/vnd.jupyter.widget-view+json": {
       "model_id": "93770b6751474cae952a339717c51a25",
       "version_major": 2,
       "version_minor": 0
      },
      "text/plain": [
       "Text(value='', placeholder='1,2,3,1')"
      ]
     },
     "metadata": {},
     "output_type": "display_data"
    }
   ],
   "source": [
    "print('Politica a evaluar separada por comas')\n",
    "poli=widgets.Text(\n",
    "    placeholder='1,1,3,1')\n",
    "poli"
   ]
  },
  {
   "cell_type": "code",
   "execution_count": 305,
   "metadata": {},
   "outputs": [
    {
     "data": {
      "text/plain": [
       "array([[0.48, 0.3 , 0.22, 0.  ],\n",
       "       [0.59, 0.27, 0.14, 0.  ],\n",
       "       [0.43, 0.26, 0.31, 0.  ],\n",
       "       [0.  , 0.  , 0.  , 0.  ]])"
      ]
     },
     "execution_count": 305,
     "metadata": {},
     "output_type": "execute_result"
    }
   ],
   "source": [
    "arr=[[.48,.30,.22,0],[.59,.27,.14,0],[.43,.26,.31,0],[0,0,0,0]]\n",
    "#arr=[[items_0[i].value for i in range(0,4)]\n",
    "#     ,[items_1[i].value for i in range(0,4)]\n",
    "#     ,[items_2[i].value for i in range(0,4)]\n",
    "#     ,[items_3[i].value for i in range(0,4)]]\n",
    "original=np.array(arr)\n",
    "original"
   ]
  },
  {
   "cell_type": "code",
   "execution_count": 306,
   "metadata": {},
   "outputs": [
    {
     "data": {
      "text/plain": [
       "array([1., 1., 1., 0.])"
      ]
     },
     "execution_count": 306,
     "metadata": {},
     "output_type": "execute_result"
    }
   ],
   "source": [
    "np.sum(original,axis=1)"
   ]
  },
  {
   "cell_type": "code",
   "execution_count": 307,
   "metadata": {},
   "outputs": [
    {
     "data": {
      "text/plain": [
       "array([[0., 1., 0., 0.],\n",
       "       [0., 1., 0., 0.],\n",
       "       [1., 0., 0., 0.],\n",
       "       [1., 0., 0., 0.]])"
      ]
     },
     "execution_count": 307,
     "metadata": {},
     "output_type": "execute_result"
    }
   ],
   "source": [
    "\n",
    "pol=[2,2,3,3]\n",
    "for i in range(0,4):\n",
    "    if pol[i]==1:\n",
    "        continue\n",
    "    elif pol[i]==2:\n",
    "        for j in range(0,4):\n",
    "            if j==1:\n",
    "                original[i][j]=1\n",
    "            else:\n",
    "                original[i][j]=0\n",
    "    elif pol[i]==3:\n",
    "        for j in range(0,4):\n",
    "            if j==0:\n",
    "                original[i][j]=1\n",
    "            else:\n",
    "                original[i][j]=0\n",
    "            \n",
    "original"
   ]
  },
  {
   "cell_type": "code",
   "execution_count": 308,
   "metadata": {},
   "outputs": [
    {
     "data": {
      "text/plain": [
       "array([[0., 0., 1., 1.],\n",
       "       [1., 1., 0., 0.],\n",
       "       [0., 0., 0., 0.],\n",
       "       [0., 0., 0., 0.]])"
      ]
     },
     "execution_count": 308,
     "metadata": {},
     "output_type": "execute_result"
    }
   ],
   "source": [
    "trans=np.transpose(original)\n",
    "trans"
   ]
  },
  {
   "cell_type": "code",
   "execution_count": 309,
   "metadata": {},
   "outputs": [
    {
     "data": {
      "text/plain": [
       "array([[-1.,  0.,  1.,  1.],\n",
       "       [ 1.,  0.,  0.,  0.],\n",
       "       [ 0.,  0., -1.,  0.],\n",
       "       [ 0.,  0.,  0., -1.]])"
      ]
     },
     "execution_count": 309,
     "metadata": {},
     "output_type": "execute_result"
    }
   ],
   "source": [
    "for i in range(0,4):\n",
    "    trans[i][i]=trans[i][i]-1\n",
    "trans"
   ]
  },
  {
   "cell_type": "code",
   "execution_count": 310,
   "metadata": {},
   "outputs": [
    {
     "name": "stdout",
     "output_type": "stream",
     "text": [
      "-1.0 0.0 1.0 1.0 0\n",
      "1.0 0.0 0.0 0.0 0\n",
      "0.0 0.0 -1.0 0.0 0\n",
      "0.0 0.0 0.0 -1.0 0\n",
      "1 1 1 1 1\n"
     ]
    }
   ],
   "source": [
    "for i in range(0,4):\n",
    "    print(\"{} {} {} {} 0\".format(trans[i][0],trans[i][1],trans[i][2],trans[i][3]))\n",
    "print(\"1 1 1 1 1\")"
   ]
  },
  {
   "cell_type": "code",
   "execution_count": 311,
   "metadata": {},
   "outputs": [
    {
     "data": {
      "text/plain": [
       "array([[ 7700, 11700, 16700,     0],\n",
       "       [14500, 18500, 23500,     0],\n",
       "       [    0,     0, 26400, 26400]])"
      ]
     },
     "execution_count": 311,
     "metadata": {},
     "output_type": "execute_result"
    }
   ],
   "source": [
    "costo=np.array([[7700,14500,0],[11700,18500,0],[16700,23500,26400],[0,0,26400]])\n",
    "pi=[2950/6563,2600/6563,1013/6563,0]\n",
    "costo=np.transpose(costo)\n",
    "costo"
   ]
  },
  {
   "cell_type": "code",
   "execution_count": 294,
   "metadata": {},
   "outputs": [
    {
     "data": {
      "text/plain": [
       "array([0, 1, 0, 0])"
      ]
     },
     "execution_count": 294,
     "metadata": {},
     "output_type": "execute_result"
    }
   ],
   "source": [
    "x_1=0\n",
    "x_2=1\n",
    "x_3=0\n",
    "x_4=0\n",
    "pi=np.array([x_1,x_2,x_3,x_4])\n",
    "pi=np.around(pi, decimals=2)\n",
    "\n",
    "pi"
   ]
  },
  {
   "cell_type": "code",
   "execution_count": 295,
   "metadata": {},
   "outputs": [
    {
     "data": {
      "text/plain": [
       "array([14500., 18500., 16700., 26400.])"
      ]
     },
     "execution_count": 295,
     "metadata": {},
     "output_type": "execute_result"
    }
   ],
   "source": [
    "total=np.zeros((4,))\n",
    "cont=0\n",
    "for i in pol:\n",
    "    total[cont]=costo[i-1][cont]\n",
    "    cont+=1\n",
    "total"
   ]
  },
  {
   "cell_type": "code",
   "execution_count": 296,
   "metadata": {},
   "outputs": [
    {
     "data": {
      "text/plain": [
       "18500.0"
      ]
     },
     "execution_count": 296,
     "metadata": {},
     "output_type": "execute_result"
    }
   ],
   "source": [
    "res=np.sum(np.multiply(total,pi),axis=0)\n",
    "res"
   ]
  },
  {
   "cell_type": "code",
   "execution_count": 297,
   "metadata": {},
   "outputs": [
    {
     "name": "stdout",
     "output_type": "stream",
     "text": [
      "Politica a evaluar [2, 2, 1, 3]\n",
      "\n",
      "\n",
      "-1.0a+ 0.0b+ 0.43c+ 1.0d= 0\n",
      "1.0a+ 0.0b+ 0.26c+ 0.0d= 0\n",
      "0.0a+ 0.0b+ -0.69c+ 0.0d= 0\n",
      "0.0a+ 0.0b+ 0.0c+ -1.0d= 0\n",
      "a+b+c+d=1\n",
      "\n",
      " Vector PI  [0 1 0 0]\n",
      "\n",
      " 0*14500.0 + 1*18500.0 + 0*16700.0 + 0*26400.0=18500.0\n",
      "\n",
      " EL resultado es  18500.0\n"
     ]
    }
   ],
   "source": [
    "print(\"Politica a evaluar\", pol)\n",
    "print(\"\\n\")\n",
    "for i in range(0,4):\n",
    "    print(\"{}a+ {}b+ {}c+ {}d= 0\".format(trans[i][0],trans[i][1],trans[i][2],trans[i][3]))\n",
    "print(\"a+b+c+d=1\")\n",
    "\n",
    "print(\"\\n Vector PI \",pi)\n",
    "\n",
    "print(\"\\n {}*{} + {}*{} + {}*{} + {}*{}={}\".format(pi[0],total[0],pi[1],total[1],pi[2],total[2],pi[3],total[3],res))\n",
    "\n",
    "print(\"\\n EL resultado es \",res)"
   ]
  },
  {
   "cell_type": "code",
   "execution_count": null,
   "metadata": {},
   "outputs": [],
   "source": []
  },
  {
   "cell_type": "code",
   "execution_count": null,
   "metadata": {},
   "outputs": [],
   "source": []
  }
 ],
 "metadata": {
  "kernelspec": {
   "display_name": "Python 3",
   "language": "python",
   "name": "python3"
  },
  "language_info": {
   "codemirror_mode": {
    "name": "ipython",
    "version": 3
   },
   "file_extension": ".py",
   "mimetype": "text/x-python",
   "name": "python",
   "nbconvert_exporter": "python",
   "pygments_lexer": "ipython3",
   "version": "3.6.5"
  }
 },
 "nbformat": 4,
 "nbformat_minor": 2
}
